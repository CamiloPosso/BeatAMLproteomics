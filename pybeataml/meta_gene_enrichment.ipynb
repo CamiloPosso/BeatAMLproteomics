{
 "cells": [
  {
   "cell_type": "code",
   "execution_count": null,
   "id": "880ff97b",
   "metadata": {},
   "outputs": [],
   "source": [
    "from pybeataml.load_data_from_synpase import load_file, load_excel\n",
    "from magine.enrichment.enrichr import Enrichr, _valid_libs, db_types"
   ]
  },
  {
   "cell_type": "code",
   "execution_count": null,
   "id": "a3908832",
   "metadata": {},
   "outputs": [],
   "source": [
    "# will be used to map patient ids to clusters\n",
    "mapping = load_file('syn26642544')\n",
    "mapping.head(5)"
   ]
  },
  {
   "cell_type": "code",
   "execution_count": null,
   "id": "ed5fd04d",
   "metadata": {},
   "outputs": [],
   "source": [
    "meta =  load_excel('syn26532699')\n",
    "meta.head(5)"
   ]
  },
  {
   "cell_type": "code",
   "execution_count": null,
   "id": "c3307045",
   "metadata": {},
   "outputs": [],
   "source": [
    "# focusing on k=5 and k=8 \n",
    "list_of_gene_sets = [\n",
    "    #'syn26718015',\n",
    "    #'syn26718016',\n",
    "    'syn26718017',\n",
    "    #'syn26718018',\n",
    "    #'syn26718019',\n",
    "    'syn26718020',\n",
    "]"
   ]
  },
  {
   "cell_type": "code",
   "execution_count": null,
   "id": "6f1d1e74",
   "metadata": {},
   "outputs": [],
   "source": [
    "# enrichR engine. Basically use to pass a list, or list of genes, to enrichR, grab results.\n",
    "# results are a MAGINE.enrichment_result, which is a fancy data class worth exploring!\n",
    "e = Enrichr()"
   ]
  },
  {
   "cell_type": "code",
   "execution_count": null,
   "id": "d0173e9e",
   "metadata": {},
   "outputs": [],
   "source": [
    "# organize output, gather cluster and data type together\n",
    "def get_genes_per_cluster(feature_array):\n",
    "    output_dict = {}\n",
    "    for i, d in feature_array.groupby(['Cluster', 'data_type'])['feature']:\n",
    "        output_dict[i] = list(set(d.values))\n",
    "        if i[1] == 'Phospho':\n",
    "            output_dict[(i[0], 'phospho_gene')] = list(set(i.split('-')[0] for i in d.values))\n",
    "    return output_dict"
   ]
  },
  {
   "cell_type": "code",
   "execution_count": null,
   "id": "422de1fc",
   "metadata": {},
   "outputs": [],
   "source": [
    "k_equal_5 = 'syn26718017'\n",
    "k5 = load_file(k_equal_5)\n",
    "k5_clusters = get_genes_per_cluster(k5)\n",
    "\n",
    "k_equal_8 = 'syn26718020'\n",
    "k8 = load_file(k_equal_8)\n",
    "k8_clusters = get_genes_per_cluster(k8)"
   ]
  },
  {
   "cell_type": "code",
   "execution_count": null,
   "id": "cb260364",
   "metadata": {},
   "outputs": [],
   "source": [
    "k5_clusters[(1, 'Global')]"
   ]
  },
  {
   "cell_type": "code",
   "execution_count": null,
   "id": "f5369a8d",
   "metadata": {},
   "outputs": [],
   "source": [
    "k5.groupby('Cluster').count()['feature']"
   ]
  },
  {
   "cell_type": "code",
   "execution_count": null,
   "id": "0665b0af",
   "metadata": {},
   "outputs": [],
   "source": [
    "k8.groupby('Cluster').count()['feature']"
   ]
  },
  {
   "cell_type": "code",
   "execution_count": null,
   "id": "e7e045ee",
   "metadata": {},
   "outputs": [],
   "source": [
    "# prep sample names, will use cluster_data_type\n",
    "k5_sample_names = [f'{cluster}_{d_type}' for cluster, d_type in k5_clusters.keys()]\n",
    "k5_samples = [i for i in k5_clusters.values()]\n",
    "\n",
    "# run enrichment\n",
    "enrichment = e.run_samples(\n",
    "    k5_samples, \n",
    "    k5_sample_names, \n",
    "    gene_set_lib='Reactome_2016'\n",
    ")\n",
    "# clean up names\n",
    "enrichment.term_name = enrichment.term_name.str.split('_').str.get(0)\n",
    "\n",
    "# create heatmap\n",
    "enrichment.remove_redundant(\n",
    "    level='dataframe', \n",
    "    sort_by='combined_score'\n",
    ").heatmap(\n",
    "    figsize=(4,8),\n",
    "    linewidths=.01,\n",
    "    y_tick_labels=True,\n",
    "    cluster_col=True,\n",
    "    cluster_row=True\n",
    ");"
   ]
  },
  {
   "cell_type": "code",
   "execution_count": null,
   "id": "b61309cc",
   "metadata": {},
   "outputs": [],
   "source": [
    "# prep sample names, will use cluster_data_type\n",
    "k8_sample_names = [f'{cluster}_{d_type}' for cluster, d_type in k8_clusters.keys()]\n",
    "k8_samples = [i for i in k8_clusters.values()]\n",
    "\n",
    "# run enrichment\n",
    "k8_enrichment = e.run_samples(\n",
    "    k8_samples, \n",
    "    k8_sample_names, \n",
    "    gene_set_lib='Reactome_2016'\n",
    ")\n",
    "# clean up names\n",
    "k8_enrichment.term_name = k8_enrichment.term_name.str.split('_').str.get(0)"
   ]
  },
  {
   "cell_type": "code",
   "execution_count": null,
   "id": "71c41652",
   "metadata": {},
   "outputs": [],
   "source": [
    "# create heatmap\n",
    "k8_enrichment.remove_redundant(\n",
    "    level='dataframe', \n",
    "    sort_by='combined_score'\n",
    ").heatmap(\n",
    "    figsize=(6, 12),\n",
    "    linewidths=.01,\n",
    "    y_tick_labels=True,\n",
    "    cluster_col=True,\n",
    "    cluster_row=True\n",
    ");"
   ]
  },
  {
   "cell_type": "code",
   "execution_count": null,
   "id": "af71ec94",
   "metadata": {},
   "outputs": [],
   "source": []
  }
 ],
 "metadata": {
  "kernelspec": {
   "display_name": "Python 3 (ipykernel)",
   "language": "python",
   "name": "python3"
  },
  "language_info": {
   "codemirror_mode": {
    "name": "ipython",
    "version": 3
   },
   "file_extension": ".py",
   "mimetype": "text/x-python",
   "name": "python",
   "nbconvert_exporter": "python",
   "pygments_lexer": "ipython3",
   "version": "3.7.12"
  }
 },
 "nbformat": 4,
 "nbformat_minor": 5
}

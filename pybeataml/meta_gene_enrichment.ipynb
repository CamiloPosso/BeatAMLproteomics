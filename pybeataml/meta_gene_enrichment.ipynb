{
 "cells": [
  {
   "cell_type": "code",
   "execution_count": null,
   "id": "996f31f4",
   "metadata": {},
   "outputs": [],
   "source": [
    "import numpy as np\n",
    "import seaborn as sns\n",
    "import pandas as pd\n",
    "from matplotlib.patches import Patch"
   ]
  },
  {
   "cell_type": "code",
   "execution_count": null,
   "id": "ad5d7dab",
   "metadata": {},
   "outputs": [],
   "source": [
    "from load_data_from_synpase import load_file, load_excel, load_table\n",
    "from magine.plotting.wordcloud_tools import create_wordcloud\n",
    "from magine.enrichment.enrichr import Enrichr, _valid_libs, db_types\n",
    "import matplotlib.pyplot as plt\n",
    "import networkx as nx\n",
    "from pybeataml.load_data import AMLData"
   ]
  },
  {
   "cell_type": "code",
   "execution_count": null,
   "id": "36c59136",
   "metadata": {},
   "outputs": [],
   "source": [
    "data = AMLData()"
   ]
  },
  {
   "cell_type": "code",
   "execution_count": null,
   "id": "cb822212",
   "metadata": {},
   "outputs": [],
   "source": [
    "exp_data = data.exp_data"
   ]
  },
  {
   "cell_type": "code",
   "execution_count": null,
   "id": "1367bab9",
   "metadata": {},
   "outputs": [],
   "source": [
    "phosph = exp_data.phospho.pivoter(index='sample_id', columns='label', values='exp_value')\n",
    "phosph.count()"
   ]
  },
  {
   "cell_type": "code",
   "execution_count": null,
   "id": "a4fd1f4c",
   "metadata": {},
   "outputs": [],
   "source": [
    "phosph.head()"
   ]
  },
  {
   "cell_type": "code",
   "execution_count": null,
   "id": "34b16d02",
   "metadata": {},
   "outputs": [],
   "source": [
    "phosph.count().sort_values()"
   ]
  },
  {
   "cell_type": "code",
   "execution_count": null,
   "id": "bfd62df6",
   "metadata": {},
   "outputs": [],
   "source": [
    "exp_data.phospho.heatmap(convert_to_log=False, index='label', annotate_sig=False);"
   ]
  },
  {
   "cell_type": "code",
   "execution_count": null,
   "id": "3217ea85",
   "metadata": {},
   "outputs": [],
   "source": [
    "exp_data.wes.heatmap(\n",
    "    index='identifier', \n",
    "    convert_to_log=False, \n",
    "    num_colors=3, \n",
    "    annotate_sig=False\n",
    ");"
   ]
  },
  {
   "cell_type": "code",
   "execution_count": null,
   "id": "551ce016",
   "metadata": {},
   "outputs": [],
   "source": [
    "# will be used to map patient ids to clusters\n",
    "mapping = load_file('syn26642544')\n",
    "del mapping['Barcode.ID']\n",
    "mapping.tail(5)"
   ]
  },
  {
   "cell_type": "code",
   "execution_count": null,
   "id": "c4b0dedb",
   "metadata": {},
   "outputs": [],
   "source": [
    "full_meta = load_excel('syn26532699')"
   ]
  },
  {
   "cell_type": "code",
   "execution_count": null,
   "id": "44b7f040",
   "metadata": {},
   "outputs": [],
   "source": [
    "meta =  load_file('syn25807733')\n",
    "meta.set_index('Barcode.ID', inplace=True)\n",
    "meta"
   ]
  },
  {
   "cell_type": "code",
   "execution_count": null,
   "id": "1fee125d",
   "metadata": {},
   "outputs": [],
   "source": [
    "important_cols = [\n",
    "    'FLT3.ITD', 'InitialAMLDiagnosis',\n",
    "       'PostChemotherapy'\n",
    "]\n",
    "to_del = ['Plex', 'Channel', 'Loading.Mass']\n",
    "\n",
    "meta = meta.loc[:, important_cols]\n",
    "meta"
   ]
  },
  {
   "cell_type": "code",
   "execution_count": null,
   "id": "fc6ef170",
   "metadata": {},
   "outputs": [],
   "source": [
    "cluster_maps = meta.join(mapping, ).dropna(subset=['k=2'])\n",
    "cluster_maps.reset_index(inplace=True)\n",
    "cluster_maps.rename(\n",
    "    {'Barcode.ID': 'sample_id'}, \n",
    "    inplace=True, \n",
    "    axis=1\n",
    ")\n",
    "cluster_maps"
   ]
  },
  {
   "cell_type": "code",
   "execution_count": null,
   "id": "c3307045",
   "metadata": {},
   "outputs": [],
   "source": [
    "# focusing on k=5 and k=8 \n",
    "list_of_gene_sets = [\n",
    "    #'syn26718015',\n",
    "    #'syn26718016',\n",
    "    'syn26718017',\n",
    "    #'syn26718018',\n",
    "    #'syn26718019',\n",
    "    'syn26718020',\n",
    "]"
   ]
  },
  {
   "cell_type": "code",
   "execution_count": null,
   "id": "d0173e9e",
   "metadata": {},
   "outputs": [],
   "source": [
    "# organize output, gather cluster and data type together\n",
    "def get_genes_per_cluster(feature_array):\n",
    "    output_dict = {}\n",
    "    for i, d in feature_array.groupby(['Cluster', 'data_type'])['feature']:\n",
    "        output_dict[i] = list(set(d.values))\n",
    "        if i[1] == 'Phospho':\n",
    "            output_dict[(i[0], 'phospho_gene')] = list(set(i.split('-')[0] for i in d.values))\n",
    "    return output_dict"
   ]
  },
  {
   "cell_type": "code",
   "execution_count": null,
   "id": "23f51692",
   "metadata": {},
   "outputs": [],
   "source": [
    "k_equal_5 = 'syn26718017'\n",
    "k5 = load_file(k_equal_5)\n",
    "k5_clusters = get_genes_per_cluster(k5)\n",
    "\n",
    "k_equal_8 = 'syn26718020'\n",
    "k8 = load_file(k_equal_8)\n",
    "k8_clusters = get_genes_per_cluster(k8)"
   ]
  },
  {
   "cell_type": "code",
   "execution_count": null,
   "id": "96be5e25",
   "metadata": {},
   "outputs": [],
   "source": [
    "k5.groupby('Cluster')['data_type'].unique()"
   ]
  },
  {
   "cell_type": "code",
   "execution_count": null,
   "id": "d8f85f44",
   "metadata": {},
   "outputs": [],
   "source": [
    "def view_cluster(data, meta_genes, subset_index='identifier'):\n",
    "    \n",
    "    test = data.subset(\n",
    "       meta_genes, \n",
    "        index=subset_index, \n",
    "    ).pivoter(\n",
    "        index='label', \n",
    "        values='exp_value'\n",
    "    ).T\n",
    "    plot_cols = test.columns.values\n",
    "    \n",
    "    test.fillna(0, inplace=True)\n",
    "    \n",
    "    test.reset_index(inplace=True)\n",
    "    cluster_dict = cluster_maps[['sample_id', 'k=5']]\n",
    "    test = test.merge(cluster_maps, on='sample_id')\n",
    "    test.set_index('sample_id', inplace=True)\n",
    "    \n",
    "    \n",
    "    node_labels = test['k=5']\n",
    "    node_pal = sns.color_palette(\"Set2\", 5)\n",
    "    node_lut = dict(zip(sorted(node_labels.unique()), node_pal))\n",
    "    node_colors = pd.Series(node_labels, index=test.index.values, name='Cluster').map(node_lut)\n",
    "\n",
    "\n",
    "    node2_labels = test['FLT3.ITD']\n",
    "    node2_pal = sns.color_palette(\"binary\", len(node2_labels.unique()))\n",
    "    node2_lut = dict(zip(sorted(node2_labels.unique()), node2_pal))\n",
    "    node2_colors = pd.Series(node2_labels, index=test.index.values, name='FLT3.ITD').map(node2_lut)\n",
    "\n",
    "    node3_labels = test['PostChemotherapy']\n",
    "    node3_pal = sns.color_palette(\"Dark2\", len(node3_labels.unique()))\n",
    "    node3_lut = dict(zip(sorted(node3_labels.unique()), node3_pal))\n",
    "    node3_colors = pd.Series(node3_labels, index=test.index.values, name='PostChemotherapy').map(node3_lut)\n",
    "    \n",
    "    network_node_colors = pd.concat(\n",
    "        [pd.DataFrame(node_colors), pd.DataFrame(node2_colors), pd.DataFrame(node3_colors)], \n",
    "        axis=1\n",
    "    )\n",
    "                                              \n",
    "    \n",
    "    figsize=(12, 18)\n",
    "    g = sns.clustermap(\n",
    "        test[plot_cols].T, \n",
    "        col_colors=network_node_colors, \n",
    "        cmap=sns.color_palette(\"coolwarm\", 11),\n",
    "        figsize=figsize,\n",
    "        yticklabels=True\n",
    "    )\n",
    "\n",
    "    handles = [Patch(facecolor=node_lut[name]) for name in node_lut]\n",
    "    leg1 = plt.legend(handles, node_lut, title='Cluster',\n",
    "               bbox_to_anchor=(1, .9), bbox_transform=plt.gcf().transFigure, loc='upper right')\n",
    "    \n",
    "    handles2 = [Patch(facecolor=node2_lut[name]) for name in node2_lut]\n",
    "    leg2 = plt.legend(handles2, node2_lut, title='FLT3.ITD',\n",
    "               bbox_to_anchor=(1, .8), bbox_transform=plt.gcf().transFigure, loc='upper right')\n",
    "    \n",
    "    handles3 = [Patch(facecolor=node3_lut[name]) for name in node3_lut]\n",
    "    leg3 = plt.legend(handles3, node3_lut, title='PostChemo',\n",
    "               bbox_to_anchor=(1.1, .8), bbox_transform=plt.gcf().transFigure, loc='upper right')\n",
    "    \n",
    "    plt.gca().add_artist(leg1)\n",
    "    plt.gca().add_artist(leg2)\n",
    "    \n",
    "view_cluster(exp_data.proteomics, k5_clusters[(1, 'Global')])"
   ]
  },
  {
   "cell_type": "code",
   "execution_count": null,
   "id": "a02a7777",
   "metadata": {},
   "outputs": [],
   "source": [
    "view_cluster(exp_data.phospho, k5_clusters[(1, 'Phospho')], subset_index='label')"
   ]
  },
  {
   "cell_type": "code",
   "execution_count": null,
   "id": "e10ee355",
   "metadata": {
    "scrolled": false
   },
   "outputs": [],
   "source": [
    "view_cluster(exp_data.proteomics, k5_clusters[(1, 'Global')])  \n",
    "view_cluster(exp_data.phospho, k5_clusters[(1, 'phospho_gene')])\n",
    "view_cluster(exp_data.wes, k5_clusters[(1, 'WES')])\n",
    "view_cluster(exp_data.rna, k5_clusters[(1, 'RNA')])"
   ]
  },
  {
   "cell_type": "code",
   "execution_count": null,
   "id": "6d0d804e",
   "metadata": {
    "scrolled": false
   },
   "outputs": [],
   "source": [
    "view_cluster(exp_data.rna, k5_clusters[(3, 'RNA')])"
   ]
  },
  {
   "cell_type": "code",
   "execution_count": null,
   "id": "673ab092",
   "metadata": {
    "scrolled": false
   },
   "outputs": [],
   "source": [
    "view_cluster(exp_data.wes, k5_clusters[(2, 'WES')]+k5_clusters[(1, 'WES')])"
   ]
  },
  {
   "cell_type": "code",
   "execution_count": null,
   "id": "99af71dd",
   "metadata": {},
   "outputs": [],
   "source": []
  },
  {
   "cell_type": "code",
   "execution_count": null,
   "id": "1b3c6737",
   "metadata": {},
   "outputs": [],
   "source": [
    "exp_data.proteomics.heatmap(\n",
    "    k8_clusters[(1, 'Global')],\n",
    "    index='label', \n",
    "    subset_index='identifier', \n",
    "    convert_to_log=False, \n",
    "#     num_colors=3, \n",
    "    annotate_sig=False,\n",
    "    cluster_row=False,\n",
    "    cluster_col=True,\n",
    ");"
   ]
  },
  {
   "cell_type": "code",
   "execution_count": null,
   "id": "f5369a8d",
   "metadata": {},
   "outputs": [],
   "source": [
    "k5.groupby(['Cluster', 'data_type']).count()['feature']"
   ]
  },
  {
   "cell_type": "code",
   "execution_count": null,
   "id": "2b15128a",
   "metadata": {},
   "outputs": [],
   "source": [
    "k8.groupby('Cluster').count()['feature']"
   ]
  },
  {
   "cell_type": "code",
   "execution_count": null,
   "id": "dde87694",
   "metadata": {},
   "outputs": [],
   "source": [
    "k8.groupby(['Cluster', 'data_type']).count()['feature']"
   ]
  },
  {
   "cell_type": "code",
   "execution_count": null,
   "id": "dff27846",
   "metadata": {},
   "outputs": [],
   "source": [
    "k8.groupby('Cluster')['data_type'].unique()"
   ]
  },
  {
   "cell_type": "code",
   "execution_count": null,
   "id": "6f1d1e74",
   "metadata": {},
   "outputs": [],
   "source": [
    "# enrichR engine. Basically use to pass a list, or list of genes, to enrichR, grab results.\n",
    "# results are a MAGINE.enrichment_result, which is a fancy data class worth exploring!\n",
    "e = Enrichr()"
   ]
  },
  {
   "cell_type": "code",
   "execution_count": null,
   "id": "0665b0af",
   "metadata": {},
   "outputs": [],
   "source": [
    "# prep sample names, will use cluster_data_type\n",
    "k5_sample_names = [f'{cluster}_{d_type}' for cluster, d_type \n",
    "                   in k5_clusters.keys()]\n",
    "\n",
    "k5_samples = [i for i in k5_clusters.values()]\n",
    "\n",
    "# prep sample names, will use cluster_data_type\n",
    "k8_sample_names = [f'{cluster}_{d_type}' for cluster, d_type \n",
    "                   in k8_clusters.keys()]\n",
    "\n",
    "k8_samples = [i for i in k8_clusters.values()]"
   ]
  },
  {
   "cell_type": "code",
   "execution_count": null,
   "id": "2bb885a9",
   "metadata": {},
   "outputs": [],
   "source": [
    "# run enrichment\n",
    "k5_enrichment = e.run_samples(\n",
    "    k5_samples, \n",
    "    k5_sample_names, \n",
    "    gene_set_lib='Reactome_2016'\n",
    ")\n",
    "# clean up names\n",
    "k5_enrichment.term_name = k5_enrichment.term_name.str.split('_').str.get(0)"
   ]
  },
  {
   "cell_type": "code",
   "execution_count": null,
   "id": "c90eb74f",
   "metadata": {},
   "outputs": [],
   "source": [
    "k5_enrichment.n_genes.hist();"
   ]
  },
  {
   "cell_type": "code",
   "execution_count": null,
   "id": "dabc9f1d",
   "metadata": {},
   "outputs": [],
   "source": [
    "k5_enrichment = k5_enrichment.loc[k5_enrichment.n_genes>5]"
   ]
  },
  {
   "cell_type": "code",
   "execution_count": null,
   "id": "96810805",
   "metadata": {},
   "outputs": [],
   "source": [
    "k5_enrichment.n_genes.hist();"
   ]
  },
  {
   "cell_type": "code",
   "execution_count": null,
   "id": "0bf88c62",
   "metadata": {},
   "outputs": [],
   "source": [
    "k5_enrichment.sig.sort_values('n_genes',ascending=True).head(20)"
   ]
  },
  {
   "cell_type": "code",
   "execution_count": null,
   "id": "1d0bb08f",
   "metadata": {},
   "outputs": [],
   "source": [
    "k5_enrichment.remove_redundant(\n",
    "    level='dataframe', \n",
    "    sort_by='combined_score'\n",
    ")"
   ]
  },
  {
   "cell_type": "code",
   "execution_count": null,
   "id": "7d667bc6",
   "metadata": {},
   "outputs": [],
   "source": [
    "k5_enrichment.sig.groupby('sample_id').count()['term_name']"
   ]
  },
  {
   "cell_type": "code",
   "execution_count": null,
   "id": "e7e045ee",
   "metadata": {},
   "outputs": [],
   "source": [
    "# create heatmap\n",
    "k5_enrichment.remove_redundant(\n",
    "    level='dataframe', \n",
    "    sort_by='combined_score'\n",
    ").heatmap(\n",
    "    figsize=(6, 16),\n",
    "    linewidths=.01,\n",
    "    y_tick_labels=True,\n",
    "    cluster_col=False,\n",
    "    cluster_row=True\n",
    ");\n",
    "plt.savefig('k5_reactome_enrichment.png', bbox_inches='tight', dpi=300)"
   ]
  },
  {
   "cell_type": "code",
   "execution_count": null,
   "id": "b61309cc",
   "metadata": {},
   "outputs": [],
   "source": [
    "\n",
    "# run enrichment\n",
    "k8_enrichment = e.run_samples(\n",
    "    k8_samples, \n",
    "    k8_sample_names, \n",
    "    gene_set_lib='Reactome_2016'\n",
    ")\n",
    "# clean up names\n",
    "k8_enrichment.term_name = k8_enrichment.term_name.str.split('_').str.get(0)"
   ]
  },
  {
   "cell_type": "code",
   "execution_count": null,
   "id": "69321279",
   "metadata": {},
   "outputs": [],
   "source": [
    "# create heatmap\n",
    "k8_enrichment.remove_redundant(\n",
    "    level='dataframe', \n",
    "    sort_by='combined_score'\n",
    ").heatmap(\n",
    "    figsize=(6, 16),\n",
    "    linewidths=.01,\n",
    "    y_tick_labels=True,\n",
    "    cluster_col=False,\n",
    "    cluster_row=True\n",
    ");\n",
    "plt.savefig('k8_reactome_enrichment.png', bbox_inches='tight', dpi=300)"
   ]
  },
  {
   "cell_type": "markdown",
   "id": "dd0b2cb8",
   "metadata": {},
   "source": [
    "# Network Exploration\n",
    "\n",
    "Generate annotated set networks (nodes are terms, edges are information from molecular network between nodes)."
   ]
  },
  {
   "cell_type": "code",
   "execution_count": null,
   "id": "e26485e1",
   "metadata": {},
   "outputs": [],
   "source": [
    "\n",
    "from magine.networks.annotated_set import create_asn\n",
    "from magine.networks.visualization.notebooks import view\n",
    "from magine.networks.utils import delete_disconnected_network, trim_sink_source_nodes\n",
    "from magine.networks.subgraphs import Subgraph"
   ]
  },
  {
   "cell_type": "code",
   "execution_count": null,
   "id": "af71ec94",
   "metadata": {},
   "outputs": [],
   "source": [
    "# Only need once, then load in\n",
    "\n",
    "# from magine.networks.network_generator import create_background_network\n",
    "# net = create_background_network('background_network')"
   ]
  },
  {
   "cell_type": "code",
   "execution_count": null,
   "id": "93af1eaf",
   "metadata": {},
   "outputs": [],
   "source": [
    "net = nx.read_gpickle('background_network.p.gz')"
   ]
  },
  {
   "cell_type": "code",
   "execution_count": null,
   "id": "4848ff72",
   "metadata": {},
   "outputs": [],
   "source": []
  },
  {
   "cell_type": "code",
   "execution_count": null,
   "id": "1f9a5823",
   "metadata": {},
   "outputs": [],
   "source": [
    "sorted(k8_enrichment.sig.sample_id.unique())"
   ]
  },
  {
   "cell_type": "code",
   "execution_count": null,
   "id": "e3092714",
   "metadata": {},
   "outputs": [],
   "source": []
  },
  {
   "cell_type": "code",
   "execution_count": null,
   "id": "bc3f6d84",
   "metadata": {},
   "outputs": [],
   "source": [
    "subset_cl_4 = k8_enrichment.sig.filter_multi(\n",
    "    sample_id=['1_Global',  '1_phospho_gene']\n",
    ").copy()\n",
    "# subset_cl_4 = subset_cl_4.loc[~subset_global_1.term_name.isin(\n",
    "#     ['metabolism', 'infectious disease', 'immune system', 'disease']\n",
    "# )]\n",
    "\n",
    "subset_cl_4.remove_redundant(inplace=True, threshold=.5, sort_by='combined_score', level='dataframe' )\n",
    "subset_cl_4"
   ]
  },
  {
   "cell_type": "code",
   "execution_count": null,
   "id": "268abcd8",
   "metadata": {},
   "outputs": [],
   "source": [
    "subset_global_1 = k8_enrichment.sig.filter_multi(\n",
    "    sample_id=['1_Global', ]#'1_phospho_gene', '1_WES']\n",
    ").copy()\n",
    "subset_global_1 = subset_global_1.loc[~subset_global_1.term_name.isin(\n",
    "    ['metabolism', 'infectious disease', 'immune system', 'disease', 'gene expression']\n",
    ")]\n",
    "\n",
    "subset_global_1.remove_redundant(inplace=True, threshold=.75, sort_by='rank', level='sample' )\n",
    "subset_global_1"
   ]
  },
  {
   "cell_type": "code",
   "execution_count": null,
   "id": "b33140e2",
   "metadata": {},
   "outputs": [],
   "source": [
    "asn, mol_net = create_asn(\n",
    "    subset_global_1,\n",
    "    net, \n",
    "    remove_isolated=False,\n",
    "    use_fdr=True, \n",
    "    use_threshold=False,\n",
    "    min_edges=1\n",
    ")\n",
    "# asn = delete_disconnected_network(asn)\n",
    "print(len(mol_net.nodes),len(mol_net.edges))\n",
    "for i in asn.nodes:\n",
    "    asn.node[i]['color'] = 'white'"
   ]
  },
  {
   "cell_type": "code",
   "execution_count": null,
   "id": "aabf14c2",
   "metadata": {},
   "outputs": [],
   "source": [
    "\n",
    "\n",
    "view.draw_cyjs(asn, default_node_color='black', layout='breadthfirst', spacingFactor=1)"
   ]
  },
  {
   "cell_type": "code",
   "execution_count": null,
   "id": "b7307501",
   "metadata": {},
   "outputs": [],
   "source": [
    "asn.node['glucose metabolism']"
   ]
  },
  {
   "cell_type": "code",
   "execution_count": null,
   "id": "4ed5294c",
   "metadata": {},
   "outputs": [],
   "source": [
    "view.draw_cyjs(mol_net, add_parent=True)"
   ]
  },
  {
   "cell_type": "code",
   "execution_count": null,
   "id": "4477d764",
   "metadata": {},
   "outputs": [],
   "source": []
  },
  {
   "cell_type": "code",
   "execution_count": null,
   "id": "ec65195c",
   "metadata": {},
   "outputs": [],
   "source": [
    "sub = Subgraph(net)"
   ]
  },
  {
   "cell_type": "code",
   "execution_count": null,
   "id": "18ef2f98",
   "metadata": {},
   "outputs": [],
   "source": [
    "expand = sub.expand_neighbors(\n",
    "    mol_net, upstream=False, downstream=True, \n",
    "    include_only=k8_enrichment.sig.all_genes_from_df(), \n",
    "    add_interconnecting_edges=True\n",
    ")\n",
    "expand = trim_sink_source_nodes(expand)\n",
    "expand = delete_disconnected_network(expand)\n",
    "expand.remove_edges_from(nx.selfloop_edges(expand))\n",
    "print(len(expand.nodes),len(expand.edges))"
   ]
  },
  {
   "cell_type": "code",
   "execution_count": null,
   "id": "53a86d46",
   "metadata": {},
   "outputs": [],
   "source": [
    "view.draw_cyjs(expand, add_parent=True)"
   ]
  },
  {
   "cell_type": "code",
   "execution_count": null,
   "id": "e9d04a8a",
   "metadata": {},
   "outputs": [],
   "source": []
  }
 ],
 "metadata": {
  "kernelspec": {
   "display_name": "Python 3 (ipykernel)",
   "language": "python",
   "name": "python3"
  },
  "language_info": {
   "codemirror_mode": {
    "name": "ipython",
    "version": 3
   },
   "file_extension": ".py",
   "mimetype": "text/x-python",
   "name": "python",
   "nbconvert_exporter": "python",
   "pygments_lexer": "ipython3",
   "version": "3.7.12"
  }
 },
 "nbformat": 4,
 "nbformat_minor": 5
}

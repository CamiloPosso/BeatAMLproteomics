{
 "cells": [
  {
   "cell_type": "code",
   "execution_count": null,
   "id": "d634e782",
   "metadata": {},
   "outputs": [],
   "source": [
    "import pandas as pd\n",
    "import seaborn as sns\n",
    "import matplotlib.pyplot as plt\n",
    "from ast import literal_eval"
   ]
  },
  {
   "cell_type": "code",
   "execution_count": null,
   "id": "522fc1df",
   "metadata": {},
   "outputs": [],
   "source": [
    "all_data = pd.read_csv('models/ultimate_output_all_data.csv', index_col=0)\n",
    "\n",
    "all_data.head(10)"
   ]
  },
  {
   "cell_type": "code",
   "execution_count": null,
   "id": "35de6e71",
   "metadata": {},
   "outputs": [],
   "source": [
    "all_data.data_type.unique()"
   ]
  },
  {
   "cell_type": "code",
   "execution_count": null,
   "id": "7306d066",
   "metadata": {},
   "outputs": [],
   "source": [
    "# don't look at binary \n",
    "binary_data = all_data.loc[all_data.model.isin(['gbt_binary', 'SVC'])].copy()\n",
    "\n",
    "all_data = all_data.loc[~all_data.model.isin(['gbt_binary', 'SVC'])]\n"
   ]
  },
  {
   "cell_type": "code",
   "execution_count": null,
   "id": "a9411110",
   "metadata": {},
   "outputs": [],
   "source": [
    "sort_index = all_data.groupby('drug')['r2'].mean()\n",
    "sort_index.sort_values(inplace=True)\n",
    "sort_index = sort_index.index.values\n",
    "sort_index "
   ]
  },
  {
   "cell_type": "code",
   "execution_count": null,
   "id": "27ac327c",
   "metadata": {
    "scrolled": false
   },
   "outputs": [],
   "source": [
    "fig = plt.figure(figsize=(6, 12))\n",
    "ax = fig.add_subplot(111)\n",
    "# ax = sns.swarmplot(\n",
    "#     data=all_data,\n",
    "#     x=\"pearsonr\",\n",
    "#     y=\"drug\", \n",
    "#     hue=\"data_type\",\n",
    "#     ax=ax, \n",
    "#     order=sort_index\n",
    "# )\n",
    "ax = sns.boxenplot(\n",
    "    data=all_data,\n",
    "    x=\"pearsonr\",\n",
    "    y=\"drug\", \n",
    "#     hue=\"data_type\",\n",
    "    ax=ax, \n",
    "    order=sort_index\n",
    ")\n",
    "# Put the legend out of the figure\n",
    "# plt.legend(bbox_to_anchor=(1.05, 1), loc=2, borderaxespad=0.);\n",
    "plt.savefig(\"all_model_pearson_by_drug.png\", dpi=300, bbox_inches='tight')"
   ]
  },
  {
   "cell_type": "code",
   "execution_count": null,
   "id": "c2414a99",
   "metadata": {},
   "outputs": [],
   "source": [
    "fig = plt.figure(figsize=(4, 8))\n",
    "ax = fig.add_subplot(111)\n",
    "ax = sns.boxplot(\n",
    "    data=all_data,\n",
    "    x=\"pearsonr\",\n",
    "    y=\"data_type\", \n",
    "    hue=\"model\",\n",
    "    ax=ax, \n",
    "#     order=sort_index[-1:]\n",
    ")\n",
    "# Put the legend out of the figure\n",
    "plt.legend(bbox_to_anchor=(1.05, 1), loc=2, borderaxespad=0.);\n",
    "plt.savefig(\"model_vs_dtype.png\", dpi=300, bbox_inches='tight')"
   ]
  },
  {
   "cell_type": "code",
   "execution_count": null,
   "id": "ecbd6185",
   "metadata": {},
   "outputs": [],
   "source": [
    "fig = plt.figure(figsize=(4, 6))\n",
    "ax = fig.add_subplot(111)\n",
    "ax = sns.boxplot(\n",
    "    data=all_data.loc[all_data.drug.isin(sort_index[-1:])],\n",
    "    x=\"pearsonr\",\n",
    "    y=\"drug\", \n",
    "    hue=\"model\",\n",
    "    ax=ax, \n",
    "    order=sort_index[-1:]\n",
    ")\n",
    "# Put the legend out of the figure\n",
    "plt.legend(bbox_to_anchor=(1.05, 1), loc=2, borderaxespad=0.);\n",
    "plt.savefig(\"venetoclax_pearson_by_model.png\", dpi=300, bbox_inches='tight')"
   ]
  },
  {
   "cell_type": "code",
   "execution_count": null,
   "id": "b4214001",
   "metadata": {},
   "outputs": [],
   "source": [
    "fig = plt.figure(figsize=(4, 6))\n",
    "ax = fig.add_subplot(111)\n",
    "ax = sns.violinplot(\n",
    "    data=all_data.loc[all_data.drug.isin(sort_index[-1:])],\n",
    "    x=\"pearsonr\",\n",
    "    y=\"drug\", \n",
    "    hue=\"data_type\",\n",
    "    ax=ax, \n",
    "    order=sort_index[-1:]\n",
    ")\n",
    "# Put the legend out of the figure\n",
    "plt.legend(bbox_to_anchor=(1.05, 1), loc=2, borderaxespad=0.);\n",
    "plt.savefig(\"venetoclax_pearson_by_data.png\", dpi=300, bbox_inches='tight')"
   ]
  },
  {
   "cell_type": "code",
   "execution_count": null,
   "id": "4a4600b4",
   "metadata": {},
   "outputs": [],
   "source": [
    "from collections import Counter\n",
    "from functools import reduce\n",
    "\n",
    "def get_feature_counts(features):\n",
    "    c = Counter()\n",
    "    for k in features:\n",
    "        current_features = Counter(k.split('|'))\n",
    "        c += current_features\n",
    "    return c\n",
    "c=0\n",
    "all_counts = []\n",
    "for i, d in all_data.loc[all_data.drug.isin(sort_index[-1:])].groupby(['data_type', 'model']):\n",
    "\n",
    "    counts = pd.Series(get_feature_counts(d.feature_names))\n",
    "    counts = counts.to_frame(name='_'.join(i))\n",
    "#     counts.reset_index(inplace=True)\n",
    "#     counts.rename({'index': 'feature'}, axis=1, inplace=True)\n",
    "#     counts['feature'] = counts['index']\n",
    "#     del counts['index']\n",
    "#     print(counts)\n",
    "    \n",
    "    \n",
    "    all_counts.append(counts)\n",
    "#     if c ==2:\n",
    "#         break\n",
    "#     c+=1\n",
    "axis=1\n",
    "all_counts = pd.concat(all_counts, axis=1)\n",
    "all_counts.fillna(0, inplace=True)\n",
    "# all_counts = reduce(lambda x, y: pd.merge(x, y, on = 'feature', ), all_counts)\n",
    "all_counts.head()\n",
    "all_counts.sort_values(by='phospho_EN')"
   ]
  },
  {
   "cell_type": "code",
   "execution_count": null,
   "id": "1e98467b",
   "metadata": {},
   "outputs": [],
   "source": [
    "all_counts.sum(axis=1).sort_values(ascending=False).head(20)"
   ]
  },
  {
   "cell_type": "code",
   "execution_count": null,
   "id": "1507f2bc",
   "metadata": {},
   "outputs": [],
   "source": [
    "sns.clustermap(all_counts, col_cluster=True, row_cluster=True);\n",
    "plt.savefig(\"features_all.png\", dpi=300, bbox_inches='tight')"
   ]
  }
 ],
 "metadata": {
  "kernelspec": {
   "display_name": "Python 3 (ipykernel)",
   "language": "python",
   "name": "python3"
  },
  "language_info": {
   "codemirror_mode": {
    "name": "ipython",
    "version": 3
   },
   "file_extension": ".py",
   "mimetype": "text/x-python",
   "name": "python",
   "nbconvert_exporter": "python",
   "pygments_lexer": "ipython3",
   "version": "3.7.12"
  }
 },
 "nbformat": 4,
 "nbformat_minor": 5
}

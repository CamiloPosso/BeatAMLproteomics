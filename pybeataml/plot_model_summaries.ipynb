{
 "cells": [
  {
   "cell_type": "code",
   "execution_count": null,
   "id": "06bedbf8",
   "metadata": {},
   "outputs": [],
   "source": [
    "import numpy as np\n",
    "np.sqrt(.25)"
   ]
  },
  {
   "cell_type": "code",
   "execution_count": null,
   "id": "fdc52d3b",
   "metadata": {},
   "outputs": [],
   "source": [
    "import pandas as pd\n",
    "import seaborn as sns\n",
    "import matplotlib.pyplot as plt\n",
    "from ast import literal_eval"
   ]
  },
  {
   "cell_type": "code",
   "execution_count": null,
   "id": "b4214001",
   "metadata": {},
   "outputs": [],
   "source": [
    "gbt_df2 = pd.read_csv('models/gbt_all_drugs_all_dtypes2.csv', index_col=0)\n",
    "gbt_df2.dropna(inplace=True)\n",
    "gbt_df2.head()"
   ]
  },
  {
   "cell_type": "code",
   "execution_count": null,
   "id": "ac4040b7",
   "metadata": {},
   "outputs": [],
   "source": [
    "gbt_df = pd.read_csv('models/gbt_all_drugs_all_dtypes.csv', index_col=0)\n",
    "gbt_df.dropna(inplace=True)\n",
    "gbt_df.head()"
   ]
  },
  {
   "cell_type": "code",
   "execution_count": null,
   "id": "3e4cc2a5",
   "metadata": {},
   "outputs": [],
   "source": [
    "fig = plt.figure(figsize=(8, 12))\n",
    "ax = fig.add_subplot(111)\n",
    "ax = sns.swarmplot(data=gbt_df, x=\"r2\", y=\"drug_name\", hue=\"data_sets\", ax=ax)\n",
    "# Put the legend out of the figure\n",
    "plt.legend(bbox_to_anchor=(1.05, 1), loc=2, borderaxespad=0.);"
   ]
  },
  {
   "cell_type": "code",
   "execution_count": null,
   "id": "8c12a3a9",
   "metadata": {},
   "outputs": [],
   "source": [
    "fig = plt.figure(figsize=(8, 12))\n",
    "ax = fig.add_subplot(111)\n",
    "ax = sns.swarmplot(data=gbt_df2, x=\"r2\", y=\"drug_name\", hue=\"data_sets\", ax=ax)\n",
    "# Put the legend out of the figure\n",
    "plt.legend(bbox_to_anchor=(1.05, 1), loc=2, borderaxespad=0.);"
   ]
  },
  {
   "cell_type": "code",
   "execution_count": null,
   "id": "43e469fe",
   "metadata": {},
   "outputs": [],
   "source": [
    "fig = plt.figure(figsize=(6, 8))\n",
    "ax = fig.add_subplot(111)\n",
    "ax = sns.boxplot(data=gbt_df, x=\"r2\", y=\"data_sets\",  ax=ax,)\n",
    "sns.swarmplot(x=\"r2\", y=\"data_sets\", data=gbt_df, color=\".25\");\n",
    "fig = plt.figure(figsize=(6, 8))\n",
    "ax = fig.add_subplot(111)\n",
    "ax = sns.boxplot(data=gbt_df2, x=\"r2\", y=\"data_sets\",  ax=ax,)\n",
    "sns.swarmplot(x=\"r2\", y=\"data_sets\", data=gbt_df, color=\".25\");\n",
    "# Put the legend out of the figure\n",
    "# Put the legend out of the figure\n",
    "# plt.legend(bbox_to_anchor=(1.05, 1), loc=2, borderaxespad=0.);\n",
    "plt.xlim(-1, 1)"
   ]
  },
  {
   "cell_type": "code",
   "execution_count": null,
   "id": "b3f5d902",
   "metadata": {},
   "outputs": [],
   "source": [
    "gbt_df.head()"
   ]
  },
  {
   "cell_type": "code",
   "execution_count": null,
   "id": "4473d295",
   "metadata": {},
   "outputs": [],
   "source": [
    "en_df = pd.read_csv('models/all_models_performance.csv', index_col=0)\n",
    "en_df.dropna(inplace=True)\n",
    "en_df['r2'] = en_df['r2'].str.split('|')\n",
    "\n",
    "en_df = en_df.explode('r2').reset_index(drop=True)\n",
    "en_df['r2'] = en_df['r2'].astype(float)\n",
    "\n",
    "en_df.head()"
   ]
  },
  {
   "cell_type": "code",
   "execution_count": null,
   "id": "1527f16c",
   "metadata": {},
   "outputs": [],
   "source": [
    "fig = plt.figure(figsize=(6, 8))\n",
    "ax = fig.add_subplot(111)\n",
    "ax = sns.boxplot(data=en_df, x=\"r2\", y=\"data_type\",  ax=ax,)\n",
    "sns.swarmplot(x=\"r2\", y=\"data_type\", data=en_df, color=\".25\");\n",
    "plt.xlim(-1, 1)"
   ]
  },
  {
   "cell_type": "code",
   "execution_count": null,
   "id": "2e38a4e5",
   "metadata": {},
   "outputs": [],
   "source": [
    "fig = plt.figure(figsize=(8, 12))\n",
    "ax = fig.add_subplot(111)\n",
    "sns.swarmplot(data=en_df, x=\"r2\", y=\"drug\", hue=\"data_type\", ax=ax)\n",
    "sns.boxplot(data=en_df, x=\"r2\", y=\"drug\",  ax=ax,)\n",
    "# Put the legend out of the figure\n",
    "plt.legend(bbox_to_anchor=(1.05, 1), loc=2, borderaxespad=0.);\n",
    "plt.xlim(-1,1)"
   ]
  },
  {
   "cell_type": "code",
   "execution_count": null,
   "id": "5e9ba573",
   "metadata": {},
   "outputs": [],
   "source": []
  }
 ],
 "metadata": {
  "kernelspec": {
   "display_name": "Python 3 (ipykernel)",
   "language": "python",
   "name": "python3"
  },
  "language_info": {
   "codemirror_mode": {
    "name": "ipython",
    "version": 3
   },
   "file_extension": ".py",
   "mimetype": "text/x-python",
   "name": "python",
   "nbconvert_exporter": "python",
   "pygments_lexer": "ipython3",
   "version": "3.7.12"
  }
 },
 "nbformat": 4,
 "nbformat_minor": 5
}
